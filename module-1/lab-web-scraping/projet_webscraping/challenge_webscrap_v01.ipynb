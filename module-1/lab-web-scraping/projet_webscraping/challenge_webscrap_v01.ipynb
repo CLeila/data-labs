{
 "cells": [
  {
   "cell_type": "code",
   "execution_count": 568,
   "metadata": {},
   "outputs": [],
   "source": [
    "import pandas as pd\n",
    "import requests as r\n",
    "from bs4 import BeautifulSoup\n",
    "import re"
   ]
  },
  {
   "cell_type": "code",
   "execution_count": 569,
   "metadata": {},
   "outputs": [],
   "source": [
    "# url ='https://store.ubi.com/fr/all-games?prefn1=productTypeRefinementString&sz=16&format=page-element&prefv1=games&start=16'\n",
    "url ='https://store.ubi.com/fr/all-games?prefn1=productTypeRefinementString&sz=16&format=page-element&prefv1=games&start=64'"
   ]
  },
  {
   "cell_type": "code",
   "execution_count": 570,
   "metadata": {},
   "outputs": [],
   "source": [
    "header= {\n",
    "'path': '/fr/all-games?prefn1=productTypeRefinementString&sz=16&format=page-element&prefv1=games&start=64',\n",
    "'scheme':'https',\n",
    "'accept':'text/html,application/xhtml+xml,application/xml;q=0.9,image/webp,image/apng,*/*;q=0.8,application/signed-exchange;v=b3',\n",
    "'cookie':'__cfduid=d75502d5e38ba7e66b95cde9bebc867b81572625411; cqcid=abIbx608U7aQE9fZarr9kvKVbr; prefCountry=fr; dwanonymous_e2d89c436a26bc47381bc6c2fe1f51cc=abIbx608U7aQE9fZarr9kvKVbr; __cq_dnt=0; dw_dnt=0; dwac_decTgiaaiu1Xoaaadq5HbGM599=62Blf52ClEM0pLZE81sOukit2XabUTcFWoI%3D|dw-only|||EUR|false|Europe%2FParis|true; sid=62Blf52ClEM0pLZE81sOukit2XabUTcFWoI; dwsecuretoken_e2d89c436a26bc47381bc6c2fe1f51cc=JO6-fyUt8EvnjoUx_fk-XQRmqVNSIuC7cg==; dwsid=P0FB02CVzX2vb2tYgMrqxZyM_dpmRm47wUnaxZEFJ3E7iyV-I8y1s2ycqisCqFm2sAE87IixV5a3kd3CwTFXJA==',\n",
    "'upgrade-insecure-requests': '1',\n",
    "'user-agent': 'Mozilla/5.0 (Windows NT 10.0; Win64; x64) AppleWebKit/537.36 (KHTML, like Gecko) Chrome/77.0.3865.120 Safari/537.36'} "
   ]
  },
  {
   "cell_type": "code",
   "execution_count": 571,
   "metadata": {},
   "outputs": [],
   "source": [
    "response = r.get(url, headers=header)"
   ]
  },
  {
   "cell_type": "code",
   "execution_count": 572,
   "metadata": {},
   "outputs": [
    {
     "data": {
      "text/plain": [
       "<Response [200]>"
      ]
     },
     "execution_count": 572,
     "metadata": {},
     "output_type": "execute_result"
    }
   ],
   "source": [
    "response"
   ]
  },
  {
   "cell_type": "code",
   "execution_count": 573,
   "metadata": {},
   "outputs": [],
   "source": [
    "html= r.get(url).content"
   ]
  },
  {
   "cell_type": "code",
   "execution_count": 574,
   "metadata": {},
   "outputs": [],
   "source": [
    "soup = BeautifulSoup(html)"
   ]
  },
  {
   "cell_type": "code",
   "execution_count": 575,
   "metadata": {},
   "outputs": [],
   "source": [
    "# soup"
   ]
  },
  {
   "cell_type": "code",
   "execution_count": 576,
   "metadata": {},
   "outputs": [],
   "source": [
    "id_test = soup.select('ul.search-result-items')"
   ]
  },
  {
   "cell_type": "code",
   "execution_count": 577,
   "metadata": {},
   "outputs": [],
   "source": [
    "# id_test"
   ]
  },
  {
   "cell_type": "code",
   "execution_count": 624,
   "metadata": {},
   "outputs": [],
   "source": [
    "# platforms =[element.code for element in soup.select('span.svg-wrapper svg path')]"
   ]
  },
  {
   "cell_type": "code",
   "execution_count": 626,
   "metadata": {},
   "outputs": [],
   "source": [
    "# platforms"
   ]
  },
  {
   "cell_type": "code",
   "execution_count": 617,
   "metadata": {},
   "outputs": [],
   "source": [
    "title =[element.text for element in soup.select('h2.prod-title')]"
   ]
  },
  {
   "cell_type": "code",
   "execution_count": 475,
   "metadata": {
    "collapsed": true
   },
   "outputs": [
    {
     "data": {
      "text/plain": [
       "['\\n\\nFar Cry 5\\n\\n',\n",
       " '\\n\\nAnno 1800\\n\\n',\n",
       " \"\\n\\nTom Clancy's Rainbow Six Siege\\n\\n\",\n",
       " \"\\n\\nAssassin's Creed Odyssey\\n\\n\",\n",
       " '\\n\\nThe Settlers\\n\\n',\n",
       " '\\n\\nHeroes of Might & Magic 7\\n\\n',\n",
       " '\\n\\nAnno 2205\\n\\n',\n",
       " \"\\n\\nTom Clancy's Ghost Recon Breakpoint\\n\\n\",\n",
       " \"\\n\\nAssassin's Creed Odyssey\\n\\n\",\n",
       " '\\n\\nTom Clancy’s Ghost Recon Breakpoint\\n\\n',\n",
       " '\\n\\nRayman 2: The Great Escape\\n\\n',\n",
       " '\\n\\nSTEEP\\n\\n',\n",
       " '\\n\\nAnno 1404\\n\\n',\n",
       " \"\\n\\nAssassin's Creed\\n\\n\",\n",
       " '\\n\\nThe Crew 2\\n\\n',\n",
       " '\\n\\nMONOPOLY PLUS\\n\\n']"
      ]
     },
     "execution_count": 475,
     "metadata": {},
     "output_type": "execute_result"
    }
   ],
   "source": [
    "title"
   ]
  },
  {
   "cell_type": "code",
   "execution_count": 476,
   "metadata": {
    "collapsed": true
   },
   "outputs": [
    {
     "data": {
      "text/plain": [
       "['Far Cry 5',\n",
       " 'Anno 1800',\n",
       " \"Tom Clancy's Rainbow Six Siege\",\n",
       " \"Assassin's Creed Odyssey\",\n",
       " 'The Settlers',\n",
       " 'Heroes of Might & Magic 7',\n",
       " 'Anno 2205',\n",
       " \"Tom Clancy's Ghost Recon Breakpoint\",\n",
       " \"Assassin's Creed Odyssey\",\n",
       " 'Tom Clancy’s Ghost Recon Breakpoint',\n",
       " 'Rayman 2: The Great Escape',\n",
       " 'STEEP',\n",
       " 'Anno 1404',\n",
       " \"Assassin's Creed\",\n",
       " 'The Crew 2',\n",
       " 'MONOPOLY PLUS']"
      ]
     },
     "execution_count": 476,
     "metadata": {},
     "output_type": "execute_result"
    }
   ],
   "source": [
    "rows_t = [row.strip().replace('\\n\\n','\\n') for row in title]\n",
    "rows_t "
   ]
  },
  {
   "cell_type": "code",
   "execution_count": 477,
   "metadata": {
    "collapsed": true
   },
   "outputs": [
    {
     "data": {
      "text/plain": [
       "['\\n\\n\\n\\n\\n\\nDisponible depuis le\\n\\n27/03/2018\\n',\n",
       " '\\n\\n\\n\\n\\n\\nDisponible depuis le\\n\\n30/07/2019\\n',\n",
       " '\\n\\n\\n\\n\\n\\nDisponible depuis le\\n\\n12/02/2019\\n',\n",
       " '\\n\\n\\n\\n\\n\\nDisponible depuis le\\n\\n05/10/2018\\n',\n",
       " '\\n\\n\\n\\n\\n\\nDisponible depuis le\\n\\n15/11/2018\\n',\n",
       " '\\n\\n\\n\\n\\n\\nDisponible depuis le\\n\\n05/08/2016\\n',\n",
       " '\\n\\n\\n\\n\\n\\nDisponible depuis le\\n\\n27/10/2016\\n',\n",
       " '\\n\\n\\n\\n\\n\\nDisponible depuis le\\n\\n01/10/2019\\n',\n",
       " '\\n\\n\\n\\n\\n\\nDisponible depuis le\\n\\n05/10/2018\\n',\n",
       " '\\n\\n\\n\\n\\n\\nDisponible depuis le\\n\\n01/10/2019\\n',\n",
       " '\\n\\n\\n\\n\\n\\nDisponible depuis le\\n\\n2001\\n',\n",
       " '\\n\\n\\n\\n\\n\\nDisponible depuis le\\n\\n30/10/2018\\n',\n",
       " '\\n\\n\\n\\n\\n\\nDisponible depuis le\\n\\n08/12/2010\\n',\n",
       " '\\n\\n\\n\\n\\n\\nDisponible depuis le\\n\\n2008\\n',\n",
       " '\\n\\n\\n\\n\\n\\nDisponible depuis le\\n\\n29/06/2018\\n',\n",
       " '\\n\\n\\n\\n\\n\\nDisponible depuis le\\n\\n26/11/14\\n']"
      ]
     },
     "execution_count": 477,
     "metadata": {},
     "output_type": "execute_result"
    }
   ],
   "source": [
    "date =[element.text for element in soup.select('.release-date.only-on-list')]\n",
    "date"
   ]
  },
  {
   "cell_type": "code",
   "execution_count": 478,
   "metadata": {},
   "outputs": [
    {
     "data": {
      "text/plain": [
       "['27/03/2018',\n",
       " '30/07/2019',\n",
       " '12/02/2019',\n",
       " '05/10/2018',\n",
       " '15/11/2018',\n",
       " '05/08/2016',\n",
       " '27/10/2016',\n",
       " '01/10/2019',\n",
       " '05/10/2018',\n",
       " '01/10/2019',\n",
       " '2001',\n",
       " '30/10/2018',\n",
       " '08/12/2010',\n",
       " '2008',\n",
       " '29/06/2018',\n",
       " '26/11/14']"
      ]
     },
     "execution_count": 478,
     "metadata": {},
     "output_type": "execute_result"
    }
   ],
   "source": [
    "rows_d = [row.strip().replace('\\n\\n','\\n').split('\\n')[1] for row in date]\n",
    "rows_d"
   ]
  },
  {
   "cell_type": "code",
   "execution_count": 479,
   "metadata": {
    "collapsed": true
   },
   "outputs": [
    {
     "data": {
      "text/plain": [
       "['\\n\\n59,99 €\\n\\n',\n",
       " '\\n\\n94,99 €\\n\\n',\n",
       " '\\n\\n99,99 €\\n\\n',\n",
       " '\\n\\n159,99 €\\n\\n',\n",
       " '\\n\\n39,99 €\\n\\n',\n",
       " '\\n\\n44,99 €\\n\\n',\n",
       " '\\n\\n49,99 €\\n\\n',\n",
       " '\\n\\n179,99 €\\n\\n',\n",
       " '\\n\\n99,99 €\\n\\n',\n",
       " '\\n\\n99,99 €\\n\\n',\n",
       " '\\n\\n5,39 €\\n\\n',\n",
       " '\\n\\n39,99 €\\n\\n',\n",
       " '\\n\\n14,99 €\\n\\n',\n",
       " '\\n\\n9,99 €\\n\\n',\n",
       " '\\n\\n59,99 €\\n\\n',\n",
       " '\\n\\n14,99 €\\n\\n']"
      ]
     },
     "execution_count": 479,
     "metadata": {},
     "output_type": "execute_result"
    }
   ],
   "source": [
    "p_original = [element.text for element in soup.select('span.price-item')]\n",
    "p_original"
   ]
  },
  {
   "cell_type": "code",
   "execution_count": 651,
   "metadata": {
    "collapsed": true
   },
   "outputs": [
    {
     "data": {
      "text/plain": [
       "['59.99',\n",
       " '94.99',\n",
       " '99.99',\n",
       " '159.99',\n",
       " '39.99',\n",
       " '44.99',\n",
       " '49.99',\n",
       " '179.99',\n",
       " '99.99',\n",
       " '99.99',\n",
       " '5.39',\n",
       " '39.99',\n",
       " '14.99',\n",
       " '9.99',\n",
       " '59.99',\n",
       " '14.99']"
      ]
     },
     "execution_count": 651,
     "metadata": {},
     "output_type": "execute_result"
    }
   ],
   "source": [
    "rows_original = [row.strip().replace(' €','').replace(',','.') for row in p_original]\n",
    "rows_original"
   ]
  },
  {
   "cell_type": "code",
   "execution_count": 659,
   "metadata": {},
   "outputs": [],
   "source": [
    "# r_original= [[float(x) for x  in sublist] for sublist in rows_original]\n",
    "floats = [float(x) for x in rows_original]\n"
   ]
  },
  {
   "cell_type": "code",
   "execution_count": null,
   "metadata": {},
   "outputs": [],
   "source": []
  },
  {
   "cell_type": "code",
   "execution_count": 646,
   "metadata": {},
   "outputs": [
    {
     "data": {
      "text/plain": [
       "(16, 16)"
      ]
     },
     "execution_count": 646,
     "metadata": {},
     "output_type": "execute_result"
    }
   ],
   "source": [
    "len(rows_original), len(rows_d)\n",
    "#verifiation de la longueur de mes listes "
   ]
  },
  {
   "cell_type": "code",
   "execution_count": 482,
   "metadata": {
    "collapsed": true
   },
   "outputs": [
    {
     "data": {
      "text/plain": [
       "['19,80 €',\n",
       " '71,24 €',\n",
       " '49,99 €',\n",
       " '119,99 €',\n",
       " '19,99 €',\n",
       " '11,25 €',\n",
       " '12,50 €',\n",
       " '149,39 €',\n",
       " '40,00 €',\n",
       " '69,99 €',\n",
       " '1,83 €',\n",
       " '14,00 €',\n",
       " '3,75 €',\n",
       " '3,40 €',\n",
       " '15,00 €',\n",
       " '6,00 €']"
      ]
     },
     "execution_count": 482,
     "metadata": {},
     "output_type": "execute_result"
    }
   ],
   "source": [
    "p_promo = [element.text for element in soup.select('span.price-sales')]\n",
    "p_promo"
   ]
  },
  {
   "cell_type": "code",
   "execution_count": 489,
   "metadata": {
    "collapsed": true
   },
   "outputs": [
    {
     "data": {
      "text/plain": [
       "['19.80',\n",
       " '71.24',\n",
       " '49.99',\n",
       " '119.99',\n",
       " '19.99',\n",
       " '11.25',\n",
       " '12.50',\n",
       " '149.39',\n",
       " '40.00',\n",
       " '69.99',\n",
       " '1.83',\n",
       " '14.00',\n",
       " '3.75',\n",
       " '3.40',\n",
       " '15.00',\n",
       " '6.00']"
      ]
     },
     "execution_count": 489,
     "metadata": {},
     "output_type": "execute_result"
    }
   ],
   "source": [
    "rows_promo = [row.strip().replace(' €','').replace(',','.') for row in p_promo]\n",
    "rows_promo"
   ]
  },
  {
   "cell_type": "code",
   "execution_count": 661,
   "metadata": {
    "collapsed": true
   },
   "outputs": [
    {
     "data": {
      "text/plain": [
       "[19.8,\n",
       " 71.24,\n",
       " 49.99,\n",
       " 119.99,\n",
       " 19.99,\n",
       " 11.25,\n",
       " 12.5,\n",
       " 149.39,\n",
       " 40.0,\n",
       " 69.99,\n",
       " 1.83,\n",
       " 14.0,\n",
       " 3.75,\n",
       " 3.4,\n",
       " 15.0,\n",
       " 6.0]"
      ]
     },
     "execution_count": 661,
     "metadata": {},
     "output_type": "execute_result"
    }
   ],
   "source": [
    "floats_promo = [float(x) for x in rows_promo]\n",
    "floats_promo"
   ]
  },
  {
   "cell_type": "code",
   "execution_count": 627,
   "metadata": {
    "collapsed": true
   },
   "outputs": [
    {
     "data": {
      "text/plain": [
       "['Édition Deluxe',\n",
       " 'Édition Gold',\n",
       " 'Standard Edition',\n",
       " 'Édition Gold',\n",
       " 'Édition Standard',\n",
       " 'Édition Standard',\n",
       " 'Édition Standard',\n",
       " 'Édition Standard',\n",
       " 'Édition Standard',\n",
       " 'Édition Standard',\n",
       " 'Édition Collector Bouclier Phoenix',\n",
       " 'Édition Ultime',\n",
       " 'Édition Standard',\n",
       " 'Édition Marching Fire',\n",
       " 'Édition Standard',\n",
       " '2019']"
      ]
     },
     "execution_count": 627,
     "metadata": {},
     "output_type": "execute_result"
    }
   ],
   "source": [
    "edition= [element.text for element in soup.select('.card-subtitle h3')]\n",
    "edition"
   ]
  },
  {
   "cell_type": "code",
   "execution_count": 640,
   "metadata": {
    "collapsed": true
   },
   "outputs": [
    {
     "data": {
      "text/plain": [
       "['Deluxe',\n",
       " 'Gold',\n",
       " 'Standard',\n",
       " 'Gold',\n",
       " 'Standard',\n",
       " 'Standard',\n",
       " 'Standard',\n",
       " 'Standard',\n",
       " 'Standard',\n",
       " 'Standard',\n",
       " 'Collector Bouclier Phoenix',\n",
       " 'Ultime',\n",
       " 'Standard',\n",
       " 'Marching Fire',\n",
       " 'Standard',\n",
       " '2019']"
      ]
     },
     "execution_count": 640,
     "metadata": {},
     "output_type": "execute_result"
    }
   ],
   "source": [
    "rows_ed = [row.strip().replace(' Edition','').replace('Édition ','') for row in edition]\n",
    "rows_ed"
   ]
  },
  {
   "cell_type": "code",
   "execution_count": 696,
   "metadata": {},
   "outputs": [],
   "source": [
    "df = pd.DataFrame()\n",
    "df['date_parution']=[i for i in rows_d]\n",
    "df['title']=[i for i in rows_t]\n",
    "df['edition']=[i for i in rows_ed]\n",
    "df['promotion_price']=[i for i in floats_promo]\n",
    "df['original_price']=[i for i in floats]\n",
    "df['%']=round((1-(df['promotion_price']/df['original_price']))*100,2)\n"
   ]
  },
  {
   "cell_type": "code",
   "execution_count": 697,
   "metadata": {},
   "outputs": [
    {
     "data": {
      "text/html": [
       "<div>\n",
       "<style scoped>\n",
       "    .dataframe tbody tr th:only-of-type {\n",
       "        vertical-align: middle;\n",
       "    }\n",
       "\n",
       "    .dataframe tbody tr th {\n",
       "        vertical-align: top;\n",
       "    }\n",
       "\n",
       "    .dataframe thead th {\n",
       "        text-align: right;\n",
       "    }\n",
       "</style>\n",
       "<table border=\"1\" class=\"dataframe\">\n",
       "  <thead>\n",
       "    <tr style=\"text-align: right;\">\n",
       "      <th></th>\n",
       "      <th>date_parution</th>\n",
       "      <th>title</th>\n",
       "      <th>edition</th>\n",
       "      <th>promotion_price</th>\n",
       "      <th>original_price</th>\n",
       "      <th>%</th>\n",
       "    </tr>\n",
       "  </thead>\n",
       "  <tbody>\n",
       "    <tr>\n",
       "      <th>0</th>\n",
       "      <td>27/03/2018</td>\n",
       "      <td>Far Cry 5</td>\n",
       "      <td>Deluxe</td>\n",
       "      <td>19.80</td>\n",
       "      <td>59.99</td>\n",
       "      <td>66.99</td>\n",
       "    </tr>\n",
       "    <tr>\n",
       "      <th>1</th>\n",
       "      <td>30/07/2019</td>\n",
       "      <td>Anno 1800</td>\n",
       "      <td>Gold</td>\n",
       "      <td>71.24</td>\n",
       "      <td>94.99</td>\n",
       "      <td>25.00</td>\n",
       "    </tr>\n",
       "    <tr>\n",
       "      <th>2</th>\n",
       "      <td>12/02/2019</td>\n",
       "      <td>Tom Clancy's Rainbow Six Siege</td>\n",
       "      <td>Standard</td>\n",
       "      <td>49.99</td>\n",
       "      <td>99.99</td>\n",
       "      <td>50.01</td>\n",
       "    </tr>\n",
       "    <tr>\n",
       "      <th>3</th>\n",
       "      <td>05/10/2018</td>\n",
       "      <td>Assassin's Creed Odyssey</td>\n",
       "      <td>Gold</td>\n",
       "      <td>119.99</td>\n",
       "      <td>159.99</td>\n",
       "      <td>25.00</td>\n",
       "    </tr>\n",
       "    <tr>\n",
       "      <th>4</th>\n",
       "      <td>15/11/2018</td>\n",
       "      <td>The Settlers</td>\n",
       "      <td>Standard</td>\n",
       "      <td>19.99</td>\n",
       "      <td>39.99</td>\n",
       "      <td>50.01</td>\n",
       "    </tr>\n",
       "    <tr>\n",
       "      <th>5</th>\n",
       "      <td>05/08/2016</td>\n",
       "      <td>Heroes of Might &amp; Magic 7</td>\n",
       "      <td>Standard</td>\n",
       "      <td>11.25</td>\n",
       "      <td>44.99</td>\n",
       "      <td>74.99</td>\n",
       "    </tr>\n",
       "    <tr>\n",
       "      <th>6</th>\n",
       "      <td>27/10/2016</td>\n",
       "      <td>Anno 2205</td>\n",
       "      <td>Standard</td>\n",
       "      <td>12.50</td>\n",
       "      <td>49.99</td>\n",
       "      <td>74.99</td>\n",
       "    </tr>\n",
       "    <tr>\n",
       "      <th>7</th>\n",
       "      <td>01/10/2019</td>\n",
       "      <td>Tom Clancy's Ghost Recon Breakpoint</td>\n",
       "      <td>Standard</td>\n",
       "      <td>149.39</td>\n",
       "      <td>179.99</td>\n",
       "      <td>17.00</td>\n",
       "    </tr>\n",
       "    <tr>\n",
       "      <th>8</th>\n",
       "      <td>05/10/2018</td>\n",
       "      <td>Assassin's Creed Odyssey</td>\n",
       "      <td>Standard</td>\n",
       "      <td>40.00</td>\n",
       "      <td>99.99</td>\n",
       "      <td>60.00</td>\n",
       "    </tr>\n",
       "    <tr>\n",
       "      <th>9</th>\n",
       "      <td>01/10/2019</td>\n",
       "      <td>Tom Clancy’s Ghost Recon Breakpoint</td>\n",
       "      <td>Standard</td>\n",
       "      <td>69.99</td>\n",
       "      <td>99.99</td>\n",
       "      <td>30.00</td>\n",
       "    </tr>\n",
       "    <tr>\n",
       "      <th>10</th>\n",
       "      <td>2001</td>\n",
       "      <td>Rayman 2: The Great Escape</td>\n",
       "      <td>Collector Bouclier Phoenix</td>\n",
       "      <td>1.83</td>\n",
       "      <td>5.39</td>\n",
       "      <td>66.05</td>\n",
       "    </tr>\n",
       "    <tr>\n",
       "      <th>11</th>\n",
       "      <td>30/10/2018</td>\n",
       "      <td>STEEP</td>\n",
       "      <td>Ultime</td>\n",
       "      <td>14.00</td>\n",
       "      <td>39.99</td>\n",
       "      <td>64.99</td>\n",
       "    </tr>\n",
       "    <tr>\n",
       "      <th>12</th>\n",
       "      <td>08/12/2010</td>\n",
       "      <td>Anno 1404</td>\n",
       "      <td>Standard</td>\n",
       "      <td>3.75</td>\n",
       "      <td>14.99</td>\n",
       "      <td>74.98</td>\n",
       "    </tr>\n",
       "    <tr>\n",
       "      <th>13</th>\n",
       "      <td>2008</td>\n",
       "      <td>Assassin's Creed</td>\n",
       "      <td>Marching Fire</td>\n",
       "      <td>3.40</td>\n",
       "      <td>9.99</td>\n",
       "      <td>65.97</td>\n",
       "    </tr>\n",
       "    <tr>\n",
       "      <th>14</th>\n",
       "      <td>29/06/2018</td>\n",
       "      <td>The Crew 2</td>\n",
       "      <td>Standard</td>\n",
       "      <td>15.00</td>\n",
       "      <td>59.99</td>\n",
       "      <td>75.00</td>\n",
       "    </tr>\n",
       "    <tr>\n",
       "      <th>15</th>\n",
       "      <td>26/11/14</td>\n",
       "      <td>MONOPOLY PLUS</td>\n",
       "      <td>2019</td>\n",
       "      <td>6.00</td>\n",
       "      <td>14.99</td>\n",
       "      <td>59.97</td>\n",
       "    </tr>\n",
       "  </tbody>\n",
       "</table>\n",
       "</div>"
      ],
      "text/plain": [
       "   date_parution                                title  \\\n",
       "0     27/03/2018                            Far Cry 5   \n",
       "1     30/07/2019                            Anno 1800   \n",
       "2     12/02/2019       Tom Clancy's Rainbow Six Siege   \n",
       "3     05/10/2018             Assassin's Creed Odyssey   \n",
       "4     15/11/2018                         The Settlers   \n",
       "5     05/08/2016            Heroes of Might & Magic 7   \n",
       "6     27/10/2016                            Anno 2205   \n",
       "7     01/10/2019  Tom Clancy's Ghost Recon Breakpoint   \n",
       "8     05/10/2018             Assassin's Creed Odyssey   \n",
       "9     01/10/2019  Tom Clancy’s Ghost Recon Breakpoint   \n",
       "10          2001           Rayman 2: The Great Escape   \n",
       "11    30/10/2018                                STEEP   \n",
       "12    08/12/2010                            Anno 1404   \n",
       "13          2008                     Assassin's Creed   \n",
       "14    29/06/2018                           The Crew 2   \n",
       "15      26/11/14                        MONOPOLY PLUS   \n",
       "\n",
       "                       edition  promotion_price  original_price      %  \n",
       "0                       Deluxe            19.80           59.99  66.99  \n",
       "1                         Gold            71.24           94.99  25.00  \n",
       "2                     Standard            49.99           99.99  50.01  \n",
       "3                         Gold           119.99          159.99  25.00  \n",
       "4                     Standard            19.99           39.99  50.01  \n",
       "5                     Standard            11.25           44.99  74.99  \n",
       "6                     Standard            12.50           49.99  74.99  \n",
       "7                     Standard           149.39          179.99  17.00  \n",
       "8                     Standard            40.00           99.99  60.00  \n",
       "9                     Standard            69.99           99.99  30.00  \n",
       "10  Collector Bouclier Phoenix             1.83            5.39  66.05  \n",
       "11                      Ultime            14.00           39.99  64.99  \n",
       "12                    Standard             3.75           14.99  74.98  \n",
       "13               Marching Fire             3.40            9.99  65.97  \n",
       "14                    Standard            15.00           59.99  75.00  \n",
       "15                        2019             6.00           14.99  59.97  "
      ]
     },
     "execution_count": 697,
     "metadata": {},
     "output_type": "execute_result"
    }
   ],
   "source": [
    "df"
   ]
  },
  {
   "cell_type": "code",
   "execution_count": null,
   "metadata": {},
   "outputs": [],
   "source": []
  },
  {
   "cell_type": "code",
   "execution_count": null,
   "metadata": {},
   "outputs": [],
   "source": []
  },
  {
   "cell_type": "code",
   "execution_count": null,
   "metadata": {},
   "outputs": [],
   "source": []
  },
  {
   "cell_type": "code",
   "execution_count": null,
   "metadata": {},
   "outputs": [],
   "source": []
  },
  {
   "cell_type": "code",
   "execution_count": null,
   "metadata": {},
   "outputs": [],
   "source": []
  },
  {
   "cell_type": "code",
   "execution_count": null,
   "metadata": {},
   "outputs": [],
   "source": []
  },
  {
   "cell_type": "code",
   "execution_count": null,
   "metadata": {},
   "outputs": [],
   "source": []
  },
  {
   "cell_type": "code",
   "execution_count": null,
   "metadata": {},
   "outputs": [],
   "source": []
  },
  {
   "cell_type": "code",
   "execution_count": null,
   "metadata": {},
   "outputs": [],
   "source": []
  },
  {
   "cell_type": "code",
   "execution_count": null,
   "metadata": {},
   "outputs": [],
   "source": []
  },
  {
   "cell_type": "code",
   "execution_count": null,
   "metadata": {},
   "outputs": [],
   "source": []
  },
  {
   "cell_type": "code",
   "execution_count": null,
   "metadata": {},
   "outputs": [],
   "source": []
  },
  {
   "cell_type": "code",
   "execution_count": 309,
   "metadata": {},
   "outputs": [],
   "source": [
    "# exclus =( .only_ubisoft_store span ).card-details-wrapper .card-label\n",
    "#  promotion = .deal-percentage\n",
    "#  titre du jeux = h2.prod-title\n",
    "#  edition = .card-subtitle h3\n",
    "#  date de sortie =  .card-info span.svg-wrapper\n",
    "#           plateform : (.available-platforms span.svg-wrapper svg path   ou   ) .available-platforms span \n",
    "#   prix promo = span.price-sales \n",
    "#   prix original = span.price-item\n",
    "#  date de sortie =  .release-date\n"
   ]
  },
  {
   "cell_type": "code",
   "execution_count": 253,
   "metadata": {},
   "outputs": [],
   "source": [
    "#  games =[element.text for element in soup.select('.card-details-wrapper .card-label, .deal-percentage, h2.prod-title, .card-subtitle h3, .card-info span.svg-wrapper, .available-platforms span, span.price-sales, span.price-item, .release-date')]"
   ]
  },
  {
   "cell_type": "code",
   "execution_count": 254,
   "metadata": {},
   "outputs": [],
   "source": [
    "# title =[element.text for element in soup.select('h2.prod-title')]"
   ]
  },
  {
   "cell_type": "code",
   "execution_count": 255,
   "metadata": {},
   "outputs": [],
   "source": [
    "# rows = [row.strip().replace('\\n\\n','\\n').split('\\n') for row in title]"
   ]
  },
  {
   "cell_type": "code",
   "execution_count": 256,
   "metadata": {},
   "outputs": [],
   "source": [
    "# date =[element.text for element in soup.select('.release-date')]"
   ]
  },
  {
   "cell_type": "code",
   "execution_count": 257,
   "metadata": {},
   "outputs": [],
   "source": [
    "# rows = [row.strip().replace('\\n\\n\\n\\n\\n\\n','\\n').split('\\n') for row in date]\n"
   ]
  },
  {
   "cell_type": "code",
   "execution_count": 258,
   "metadata": {},
   "outputs": [],
   "source": [
    "# edition =[element.text for element in soup.select('.card-subtitle h3')]"
   ]
  },
  {
   "cell_type": "code",
   "execution_count": 259,
   "metadata": {},
   "outputs": [],
   "source": [
    "# promotion = [element.text for element in soup.select('.deal-percentage')]"
   ]
  },
  {
   "cell_type": "code",
   "execution_count": 260,
   "metadata": {},
   "outputs": [],
   "source": [
    "# rows = [row.strip().replace('\\n','\\n').split('\\n') for row in promotion]"
   ]
  },
  {
   "cell_type": "code",
   "execution_count": 261,
   "metadata": {},
   "outputs": [],
   "source": [
    "# plateform = [element.text for element in soup.select('.available-platforms span.svg-wrapper svg path')]"
   ]
  },
  {
   "cell_type": "code",
   "execution_count": 262,
   "metadata": {},
   "outputs": [],
   "source": [
    "# p_promo = [element.text for element in soup.select('span.price-sales')]"
   ]
  },
  {
   "cell_type": "code",
   "execution_count": 263,
   "metadata": {},
   "outputs": [],
   "source": [
    "# rows = [row.strip().replace('€','').split('\\n') for row in p_promo]"
   ]
  },
  {
   "cell_type": "code",
   "execution_count": 264,
   "metadata": {},
   "outputs": [],
   "source": [
    "# p_original = [element.text for element in soup.select('span.price-item')]"
   ]
  },
  {
   "cell_type": "code",
   "execution_count": 265,
   "metadata": {},
   "outputs": [],
   "source": [
    "# rows = [row.strip().replace('\\n\\n','\\n').split('\\n') for row in p_original]"
   ]
  },
  {
   "cell_type": "code",
   "execution_count": 286,
   "metadata": {},
   "outputs": [],
   "source": [
    "info_plus = [element.text for element in soup.select('.card-details-wrapper')]"
   ]
  },
  {
   "cell_type": "code",
   "execution_count": 287,
   "metadata": {
    "collapsed": true
   },
   "outputs": [
    {
     "data": {
      "text/plain": [
       "[[\"Tom Clancy's Rainbow Six Siege  \",\n",
       "  'Le Jeu   ',\n",
       "  '-60%   ',\n",
       "  'À partir de',\n",
       "  '8,00 €  19,99 €     ',\n",
       "  \"En Savoir Plus        Disponible depuis le 01/12/2015       Gagnez jusqu'à   20\"],\n",
       " ['Anno 1800  ',\n",
       "  'Édition Standard   ',\n",
       "  '-33%   ',\n",
       "  'À partir de',\n",
       "  '39,99 €  59,99 €     ',\n",
       "  \"En Savoir Plus        Disponible depuis le 16/04/2019    Gagnez jusqu'à   60\"],\n",
       " [\"Tom Clancy's Rainbow Six Siege  \",\n",
       "  'Édition Deluxe   ',\n",
       "  '-60%   ',\n",
       "  'À partir de',\n",
       "  '12,00 €  29,99 €     ',\n",
       "  \"En Savoir Plus        Disponible depuis le 12/02/19    Gagnez jusqu'à   30\"],\n",
       " [\"Tom Clancy's The Division 2  \",\n",
       "  'Édition Standard   ',\n",
       "  '-65%   ',\n",
       "  'À partir de',\n",
       "  '21,00 €  59,99 €     ',\n",
       "  \"En Savoir Plus        Disponible depuis le 15/03/2019       Gagnez jusqu'à   40\"],\n",
       " [\"Tom Clancy's Ghost Recon Breakpoint  \",\n",
       "  'Édition Standard   ',\n",
       "  '-20%  ',\n",
       "  'Nouveauté  ',\n",
       "  'À partir de',\n",
       "  '47,99 €  59,99 €     ',\n",
       "  \"En Savoir Plus        Disponible depuis le 04/10/19       Gagnez jusqu'à   60\"],\n",
       " [\"Tom Clancy's The Division 2  \",\n",
       "  'Édition Ultimate   ',\n",
       "  '-70%   ',\n",
       "  'À partir de',\n",
       "  '36,00 €  119,99 €     ',\n",
       "  \"En Savoir Plus        Disponible depuis le 12/03/2019    Gagnez jusqu'à   120\"],\n",
       " [\"Assassin's Creed Odyssey  \",\n",
       "  'Édition Standard   ',\n",
       "  '-50%   ',\n",
       "  'À partir de',\n",
       "  '29,99 €  59,99 €     ',\n",
       "  \"En Savoir Plus        Disponible depuis le 05/10/2018       Gagnez jusqu'à   40\"],\n",
       " [\"Assassin's Creed Odyssey  \",\n",
       "  'Édition Numérique Ultimate   ',\n",
       "  '-60%   ',\n",
       "  'À partir de',\n",
       "  '46,00 €  114,99 €     ',\n",
       "  \"En Savoir Plus        Disponible depuis le 05/10/2018    Gagnez jusqu'à   115\"],\n",
       " ['Tom Clancy’s Ghost Recon Breakpoint  ',\n",
       "  'Édition Ultimate   ',\n",
       "  '-30%   ',\n",
       "  'À partir de',\n",
       "  '83,99 €  119,99 €     ',\n",
       "  \"En Savoir Plus        Disponible depuis le 01/10/2019       Gagnez jusqu'à   120\"],\n",
       " [\"Assassin's Creed Origins  \",\n",
       "  'Édition Gold   ',\n",
       "  '-70%   ',\n",
       "  'À partir de',\n",
       "  '27,00 €  89,99 €     ',\n",
       "  \"En Savoir Plus        Disponible depuis le 27/10/2017       Gagnez jusqu'à   50\"],\n",
       " [\"Tom Clancy's The Division 2  \",\n",
       "  'Édition Gold   ',\n",
       "  '-70%   ',\n",
       "  'À partir de',\n",
       "  '30,00 €  99,99 €     ',\n",
       "  \"En Savoir Plus        Disponible depuis le 12/03/2019       Gagnez jusqu'à   70\"],\n",
       " ['Anno 1800  ',\n",
       "  'Édition Deluxe Numérique   ',\n",
       "  '-33%   ',\n",
       "  'À partir de',\n",
       "  '46,89 €  69,99 €     ',\n",
       "  \"En Savoir Plus        Disponible depuis le 16/04/2019    Gagnez jusqu'à   70\"],\n",
       " ['Rayman 3: Hoodlum Havoc  ',\n",
       "  'Édition Standard   ',\n",
       "  '-66%   ',\n",
       "  'À partir de',\n",
       "  '1,83 €  5,39 €     ',\n",
       "  \"En Savoir Plus        Disponible depuis le 20/01/2003    Gagnez jusqu'à   5\"],\n",
       " ['The Crew 2  ',\n",
       "  'Édition Gold   ',\n",
       "  '-75%   ',\n",
       "  'À partir de',\n",
       "  '22,50 €  89,99 €     ',\n",
       "  \"En Savoir Plus        Disponible depuis le 26/06/2018       Gagnez jusqu'à   60\"],\n",
       " [\"Tom Clancy's Ghost Recon Wildlands  \",\n",
       "  'Édition Standard   ',\n",
       "  '-65%   ',\n",
       "  'À partir de',\n",
       "  '17,50 €  49,99 €     ',\n",
       "  \"En Savoir Plus        Disponible depuis le 07/03/2017       Gagnez jusqu'à   30\"],\n",
       " ['Tom Clancy’s Ghost Recon Breakpoint  ',\n",
       "  'Édition Gold   ',\n",
       "  '-30%   ',\n",
       "  'À partir de',\n",
       "  '69,99 €  99,99 €     ',\n",
       "  \"En Savoir Plus        Disponible depuis le 01/10/2019       Gagnez jusqu'à   100\"]]"
      ]
     },
     "execution_count": 287,
     "metadata": {},
     "output_type": "execute_result"
    }
   ],
   "source": [
    "rows = [row.strip().replace('\\n\\n',' ').split('\\n') for row in info_plus]\n",
    "rows"
   ]
  },
  {
   "cell_type": "code",
   "execution_count": 268,
   "metadata": {
    "scrolled": true
   },
   "outputs": [],
   "source": [
    "# [i[3] for i in rows]"
   ]
  },
  {
   "cell_type": "code",
   "execution_count": 269,
   "metadata": {},
   "outputs": [],
   "source": [
    "# for i in rows: \n",
    "#     if i[3] == 'Nouveauté':\n",
    "#         right_index[3]\n",
    "#     else: \n",
    "#         print(i[3])"
   ]
  },
  {
   "cell_type": "code",
   "execution_count": 296,
   "metadata": {},
   "outputs": [],
   "source": [
    "# # i[4].replace('À partir de','') for i in rows\n",
    "# for i[3] in rows:\n",
    "#     if i[3] == 'Nouveauté':\n",
    "#         rows[i[3]]=rows[i[3]]+rows[i[4]]\n",
    "#     else: \n",
    "#         print(i[3])"
   ]
  },
  {
   "cell_type": "code",
   "execution_count": 271,
   "metadata": {},
   "outputs": [],
   "source": [
    "# [i[4].replace('À partir de','') for i in rows] "
   ]
  },
  {
   "cell_type": "code",
   "execution_count": 272,
   "metadata": {},
   "outputs": [
    {
     "data": {
      "text/html": [
       "<div>\n",
       "<style scoped>\n",
       "    .dataframe tbody tr th:only-of-type {\n",
       "        vertical-align: middle;\n",
       "    }\n",
       "\n",
       "    .dataframe tbody tr th {\n",
       "        vertical-align: top;\n",
       "    }\n",
       "\n",
       "    .dataframe thead th {\n",
       "        text-align: right;\n",
       "    }\n",
       "</style>\n",
       "<table border=\"1\" class=\"dataframe\">\n",
       "  <thead>\n",
       "    <tr style=\"text-align: right;\">\n",
       "      <th></th>\n",
       "      <th>0</th>\n",
       "      <th>1</th>\n",
       "      <th>2</th>\n",
       "      <th>3</th>\n",
       "      <th>4</th>\n",
       "      <th>5</th>\n",
       "      <th>6</th>\n",
       "    </tr>\n",
       "  </thead>\n",
       "  <tbody>\n",
       "    <tr>\n",
       "      <th>0</th>\n",
       "      <td>Tom Clancy's Rainbow Six Siege</td>\n",
       "      <td>Le Jeu</td>\n",
       "      <td>-60%</td>\n",
       "      <td>À partir de</td>\n",
       "      <td>8,00 €  19,99 €</td>\n",
       "      <td>En Savoir Plus        Disponible depuis le 01/...</td>\n",
       "      <td>None</td>\n",
       "    </tr>\n",
       "    <tr>\n",
       "      <th>1</th>\n",
       "      <td>Anno 1800</td>\n",
       "      <td>Édition Standard</td>\n",
       "      <td>-33%</td>\n",
       "      <td>À partir de</td>\n",
       "      <td>39,99 €  59,99 €</td>\n",
       "      <td>En Savoir Plus        Disponible depuis le 16/...</td>\n",
       "      <td>None</td>\n",
       "    </tr>\n",
       "    <tr>\n",
       "      <th>2</th>\n",
       "      <td>Tom Clancy's Rainbow Six Siege</td>\n",
       "      <td>Édition Deluxe</td>\n",
       "      <td>-60%</td>\n",
       "      <td>À partir de</td>\n",
       "      <td>12,00 €  29,99 €</td>\n",
       "      <td>En Savoir Plus        Disponible depuis le 12/...</td>\n",
       "      <td>None</td>\n",
       "    </tr>\n",
       "    <tr>\n",
       "      <th>3</th>\n",
       "      <td>Tom Clancy's The Division 2</td>\n",
       "      <td>Édition Standard</td>\n",
       "      <td>-65%</td>\n",
       "      <td>À partir de</td>\n",
       "      <td>21,00 €  59,99 €</td>\n",
       "      <td>En Savoir Plus        Disponible depuis le 15/...</td>\n",
       "      <td>None</td>\n",
       "    </tr>\n",
       "    <tr>\n",
       "      <th>4</th>\n",
       "      <td>Tom Clancy's Ghost Recon Breakpoint</td>\n",
       "      <td>Édition Standard</td>\n",
       "      <td>-20%</td>\n",
       "      <td>Nouveauté</td>\n",
       "      <td>À partir de</td>\n",
       "      <td>47,99 €  59,99 €</td>\n",
       "      <td>En Savoir Plus        Disponible depuis le 04/...</td>\n",
       "    </tr>\n",
       "    <tr>\n",
       "      <th>5</th>\n",
       "      <td>Tom Clancy's The Division 2</td>\n",
       "      <td>Édition Ultimate</td>\n",
       "      <td>-70%</td>\n",
       "      <td>À partir de</td>\n",
       "      <td>36,00 €  119,99 €</td>\n",
       "      <td>En Savoir Plus        Disponible depuis le 12/...</td>\n",
       "      <td>None</td>\n",
       "    </tr>\n",
       "    <tr>\n",
       "      <th>6</th>\n",
       "      <td>Assassin's Creed Odyssey</td>\n",
       "      <td>Édition Standard</td>\n",
       "      <td>-50%</td>\n",
       "      <td>À partir de</td>\n",
       "      <td>29,99 €  59,99 €</td>\n",
       "      <td>En Savoir Plus        Disponible depuis le 05/...</td>\n",
       "      <td>None</td>\n",
       "    </tr>\n",
       "    <tr>\n",
       "      <th>7</th>\n",
       "      <td>Assassin's Creed Odyssey</td>\n",
       "      <td>Édition Numérique Ultimate</td>\n",
       "      <td>-60%</td>\n",
       "      <td>À partir de</td>\n",
       "      <td>46,00 €  114,99 €</td>\n",
       "      <td>En Savoir Plus        Disponible depuis le 05/...</td>\n",
       "      <td>None</td>\n",
       "    </tr>\n",
       "    <tr>\n",
       "      <th>8</th>\n",
       "      <td>Tom Clancy’s Ghost Recon Breakpoint</td>\n",
       "      <td>Édition Ultimate</td>\n",
       "      <td>-30%</td>\n",
       "      <td>À partir de</td>\n",
       "      <td>83,99 €  119,99 €</td>\n",
       "      <td>En Savoir Plus        Disponible depuis le 01/...</td>\n",
       "      <td>None</td>\n",
       "    </tr>\n",
       "    <tr>\n",
       "      <th>9</th>\n",
       "      <td>Assassin's Creed Origins</td>\n",
       "      <td>Édition Gold</td>\n",
       "      <td>-70%</td>\n",
       "      <td>À partir de</td>\n",
       "      <td>27,00 €  89,99 €</td>\n",
       "      <td>En Savoir Plus        Disponible depuis le 27/...</td>\n",
       "      <td>None</td>\n",
       "    </tr>\n",
       "    <tr>\n",
       "      <th>10</th>\n",
       "      <td>Tom Clancy's The Division 2</td>\n",
       "      <td>Édition Gold</td>\n",
       "      <td>-70%</td>\n",
       "      <td>À partir de</td>\n",
       "      <td>30,00 €  99,99 €</td>\n",
       "      <td>En Savoir Plus        Disponible depuis le 12/...</td>\n",
       "      <td>None</td>\n",
       "    </tr>\n",
       "    <tr>\n",
       "      <th>11</th>\n",
       "      <td>Anno 1800</td>\n",
       "      <td>Édition Deluxe Numérique</td>\n",
       "      <td>-33%</td>\n",
       "      <td>À partir de</td>\n",
       "      <td>46,89 €  69,99 €</td>\n",
       "      <td>En Savoir Plus        Disponible depuis le 16/...</td>\n",
       "      <td>None</td>\n",
       "    </tr>\n",
       "    <tr>\n",
       "      <th>12</th>\n",
       "      <td>Rayman 3: Hoodlum Havoc</td>\n",
       "      <td>Édition Standard</td>\n",
       "      <td>-66%</td>\n",
       "      <td>À partir de</td>\n",
       "      <td>1,83 €  5,39 €</td>\n",
       "      <td>En Savoir Plus        Disponible depuis le 20/...</td>\n",
       "      <td>None</td>\n",
       "    </tr>\n",
       "    <tr>\n",
       "      <th>13</th>\n",
       "      <td>The Crew 2</td>\n",
       "      <td>Édition Gold</td>\n",
       "      <td>-75%</td>\n",
       "      <td>À partir de</td>\n",
       "      <td>22,50 €  89,99 €</td>\n",
       "      <td>En Savoir Plus        Disponible depuis le 26/...</td>\n",
       "      <td>None</td>\n",
       "    </tr>\n",
       "    <tr>\n",
       "      <th>14</th>\n",
       "      <td>Tom Clancy's Ghost Recon Wildlands</td>\n",
       "      <td>Édition Standard</td>\n",
       "      <td>-65%</td>\n",
       "      <td>À partir de</td>\n",
       "      <td>17,50 €  49,99 €</td>\n",
       "      <td>En Savoir Plus        Disponible depuis le 07/...</td>\n",
       "      <td>None</td>\n",
       "    </tr>\n",
       "    <tr>\n",
       "      <th>15</th>\n",
       "      <td>Tom Clancy’s Ghost Recon Breakpoint</td>\n",
       "      <td>Édition Gold</td>\n",
       "      <td>-30%</td>\n",
       "      <td>À partir de</td>\n",
       "      <td>69,99 €  99,99 €</td>\n",
       "      <td>En Savoir Plus        Disponible depuis le 01/...</td>\n",
       "      <td>None</td>\n",
       "    </tr>\n",
       "  </tbody>\n",
       "</table>\n",
       "</div>"
      ],
      "text/plain": [
       "                                        0                              1  \\\n",
       "0        Tom Clancy's Rainbow Six Siege                        Le Jeu      \n",
       "1                             Anno 1800              Édition Standard      \n",
       "2        Tom Clancy's Rainbow Six Siege                Édition Deluxe      \n",
       "3           Tom Clancy's The Division 2              Édition Standard      \n",
       "4   Tom Clancy's Ghost Recon Breakpoint              Édition Standard      \n",
       "5           Tom Clancy's The Division 2              Édition Ultimate      \n",
       "6              Assassin's Creed Odyssey              Édition Standard      \n",
       "7              Assassin's Creed Odyssey    Édition Numérique Ultimate      \n",
       "8   Tom Clancy’s Ghost Recon Breakpoint              Édition Ultimate      \n",
       "9              Assassin's Creed Origins                  Édition Gold      \n",
       "10          Tom Clancy's The Division 2                  Édition Gold      \n",
       "11                            Anno 1800      Édition Deluxe Numérique      \n",
       "12              Rayman 3: Hoodlum Havoc              Édition Standard      \n",
       "13                           The Crew 2                  Édition Gold      \n",
       "14   Tom Clancy's Ghost Recon Wildlands              Édition Standard      \n",
       "15  Tom Clancy’s Ghost Recon Breakpoint                  Édition Gold      \n",
       "\n",
       "          2            3                       4  \\\n",
       "0   -60%     À partir de    8,00 €  19,99 €        \n",
       "1   -33%     À partir de   39,99 €  59,99 €        \n",
       "2   -60%     À partir de   12,00 €  29,99 €        \n",
       "3   -65%     À partir de   21,00 €  59,99 €        \n",
       "4    -20%    Nouveauté               À partir de   \n",
       "5   -70%     À partir de  36,00 €  119,99 €        \n",
       "6   -50%     À partir de   29,99 €  59,99 €        \n",
       "7   -60%     À partir de  46,00 €  114,99 €        \n",
       "8   -30%     À partir de  83,99 €  119,99 €        \n",
       "9   -70%     À partir de   27,00 €  89,99 €        \n",
       "10  -70%     À partir de   30,00 €  99,99 €        \n",
       "11  -33%     À partir de   46,89 €  69,99 €        \n",
       "12  -66%     À partir de     1,83 €  5,39 €        \n",
       "13  -75%     À partir de   22,50 €  89,99 €        \n",
       "14  -65%     À partir de   17,50 €  49,99 €        \n",
       "15  -30%     À partir de   69,99 €  99,99 €        \n",
       "\n",
       "                                                    5  \\\n",
       "0   En Savoir Plus        Disponible depuis le 01/...   \n",
       "1   En Savoir Plus        Disponible depuis le 16/...   \n",
       "2   En Savoir Plus        Disponible depuis le 12/...   \n",
       "3   En Savoir Plus        Disponible depuis le 15/...   \n",
       "4                               47,99 €  59,99 €        \n",
       "5   En Savoir Plus        Disponible depuis le 12/...   \n",
       "6   En Savoir Plus        Disponible depuis le 05/...   \n",
       "7   En Savoir Plus        Disponible depuis le 05/...   \n",
       "8   En Savoir Plus        Disponible depuis le 01/...   \n",
       "9   En Savoir Plus        Disponible depuis le 27/...   \n",
       "10  En Savoir Plus        Disponible depuis le 12/...   \n",
       "11  En Savoir Plus        Disponible depuis le 16/...   \n",
       "12  En Savoir Plus        Disponible depuis le 20/...   \n",
       "13  En Savoir Plus        Disponible depuis le 26/...   \n",
       "14  En Savoir Plus        Disponible depuis le 07/...   \n",
       "15  En Savoir Plus        Disponible depuis le 01/...   \n",
       "\n",
       "                                                    6  \n",
       "0                                                None  \n",
       "1                                                None  \n",
       "2                                                None  \n",
       "3                                                None  \n",
       "4   En Savoir Plus        Disponible depuis le 04/...  \n",
       "5                                                None  \n",
       "6                                                None  \n",
       "7                                                None  \n",
       "8                                                None  \n",
       "9                                                None  \n",
       "10                                               None  \n",
       "11                                               None  \n",
       "12                                               None  \n",
       "13                                               None  \n",
       "14                                               None  \n",
       "15                                               None  "
      ]
     },
     "execution_count": 272,
     "metadata": {},
     "output_type": "execute_result"
    }
   ],
   "source": [
    "df = pd.DataFrame(rows) \n",
    "df "
   ]
  },
  {
   "cell_type": "code",
   "execution_count": null,
   "metadata": {},
   "outputs": [],
   "source": []
  },
  {
   "cell_type": "code",
   "execution_count": null,
   "metadata": {},
   "outputs": [],
   "source": []
  },
  {
   "cell_type": "code",
   "execution_count": null,
   "metadata": {},
   "outputs": [],
   "source": []
  },
  {
   "cell_type": "code",
   "execution_count": null,
   "metadata": {},
   "outputs": [],
   "source": []
  },
  {
   "cell_type": "code",
   "execution_count": null,
   "metadata": {},
   "outputs": [],
   "source": []
  },
  {
   "cell_type": "code",
   "execution_count": null,
   "metadata": {},
   "outputs": [],
   "source": []
  },
  {
   "cell_type": "code",
   "execution_count": null,
   "metadata": {},
   "outputs": [],
   "source": []
  },
  {
   "cell_type": "code",
   "execution_count": null,
   "metadata": {},
   "outputs": [],
   "source": []
  },
  {
   "cell_type": "code",
   "execution_count": null,
   "metadata": {},
   "outputs": [],
   "source": []
  },
  {
   "cell_type": "code",
   "execution_count": null,
   "metadata": {},
   "outputs": [],
   "source": []
  },
  {
   "cell_type": "code",
   "execution_count": null,
   "metadata": {},
   "outputs": [],
   "source": []
  },
  {
   "cell_type": "code",
   "execution_count": null,
   "metadata": {},
   "outputs": [],
   "source": []
  },
  {
   "cell_type": "code",
   "execution_count": null,
   "metadata": {},
   "outputs": [],
   "source": []
  }
 ],
 "metadata": {
  "kernelspec": {
   "display_name": "Python 3",
   "language": "python",
   "name": "python3"
  },
  "language_info": {
   "codemirror_mode": {
    "name": "ipython",
    "version": 3
   },
   "file_extension": ".py",
   "mimetype": "text/x-python",
   "name": "python",
   "nbconvert_exporter": "python",
   "pygments_lexer": "ipython3",
   "version": "3.7.1"
  }
 },
 "nbformat": 4,
 "nbformat_minor": 2
}
