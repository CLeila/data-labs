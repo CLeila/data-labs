{
 "cells": [
  {
   "cell_type": "code",
   "execution_count": null,
   "metadata": {},
   "outputs": [
    {
     "name": "stdout",
     "output_type": "stream",
     "text": [
      "Welcome to the Game!\n",
      "The length of the word is:  9\n"
     ]
    }
   ],
   "source": [
    "import random\n",
    "from IPython.display import Image, display\n",
    "\n",
    "# name = input(\"\\nHello! What is your name?\\n\")\n",
    "print('Welcome to the Game!')\n",
    "# print('You have 11 attempts at guessing letters in a word!otherwise you are Hanged')\n",
    "# print('After the 11 tries, you need to guess the word. Good luck' , name + '!')\n",
    "words= ['crazzy','hanngover','travvel','delliverables','autthor']\n",
    "        \n",
    "sampleword = random.sample(words,1)\n",
    "if(sampleword[0]):\n",
    "    print(\"The length of the word is: \" , len(sampleword[0]))\n",
    "guesses=0\n",
    "wrong_guesses = 0\n",
    "letters_guessed = []\n",
    "wrong_letters =[]\n",
    "word = []\n",
    "step_image = \"0.png\"\n",
    "max_wrong_guesses = 12\n",
    "good_image = \"good.png\"\n",
    "for x in range(len(sampleword[0])):\n",
    "    word.append('_ ')\n",
    "while wrong_guesses < max_wrong_guesses:\n",
    "    guess = str(input(\"Please enter the letter you guess: \").lower())\n",
    "    guesses+=1\n",
    "    if(guess in sampleword[0]):\n",
    "#        print(\"The letter is in the word.\")\n",
    "        for index, letter in enumerate(sampleword[0]):\n",
    "            if letter == guess:\n",
    "                word[index] = guess\n",
    "        letters_guessed.append(guess) \n",
    "    else:\n",
    "        print(\"The letter is not in the word.\")\n",
    "        wrong_guesses+=1\n",
    "        wrong_letters.append(guess)\n",
    "        step_image = str(wrong_guesses-1) + \".png\"\n",
    "        print(\"L'image est : \", step_image )\n",
    "    print(\"Total of guesses : \", guesses)\n",
    "    print(\"Total of wrong guesses : \", wrong_guesses)\n",
    "    display(Image(filename=step_image))\n",
    "    print(\"you have guessed : %s\"%(''.join(wrong_letters)))\n",
    "    print(\"Letters matched so far %s\"%''.join(word))\n",
    "    print()\n",
    "    if ''.join(word) == sampleword[0]:\n",
    "        break\n",
    "if wrong_guesses==max_wrong_guesses:\n",
    "    print(\"YOU SUCK ! The word was:\" , sampleword[0])\n",
    "else:\n",
    "    print(\"YOU'VE WON!! Great Job!\")\n",
    "    display(Image(filename=good_image))"
   ]
  },
  {
   "cell_type": "code",
   "execution_count": null,
   "metadata": {},
   "outputs": [],
   "source": []
  },
  {
   "cell_type": "code",
   "execution_count": null,
   "metadata": {},
   "outputs": [],
   "source": []
  }
 ],
 "metadata": {
  "kernelspec": {
   "display_name": "Python 3",
   "language": "python",
   "name": "python3"
  },
  "language_info": {
   "codemirror_mode": {
    "name": "ipython",
    "version": 3
   },
   "file_extension": ".py",
   "mimetype": "text/x-python",
   "name": "python",
   "nbconvert_exporter": "python",
   "pygments_lexer": "ipython3",
   "version": "3.7.1"
  }
 },
 "nbformat": 4,
 "nbformat_minor": 2
}
